{
 "cells": [
  {
   "cell_type": "code",
   "execution_count": 3,
   "id": "135fe8bc-850f-45be-9d22-047236b03e4f",
   "metadata": {},
   "outputs": [],
   "source": [
    "from binance.client import Client\n",
    "\n",
    "class BasicBot:\n",
    "    def __init__(self, api_key, api_secret, testnet=True):\n",
    "        self.client = Client(api_key, api_secret)\n",
    "        if testnet:\n",
    "            self.client.FUTURES_URL = 'https://testnet.binancefuture.com/fapi'\n"
   ]
  },
  {
   "cell_type": "code",
   "execution_count": null,
   "id": "5e8308ef-2f64-4edf-a980-0c3486117876",
   "metadata": {},
   "outputs": [],
   "source": [
    "def place_market_order(self, symbol, side, quantity):\n",
    "        try:\n",
    "            order = self.client.futures_create_order(\n",
    "                symbol=symbol,\n",
    "                side=side,\n",
    "                type='MARKET',\n",
    "                quantity=quantity\n",
    "            )\n",
    "            print(\"Market Order Placed:\", order)\n",
    "        except Exception as e:\n",
    "            print(\"Market Order Failed:\", str(e))\n",
    "\n",
    "def place_limit_order(self, symbol, side, quantity, price):\n",
    "        try:\n",
    "            order = self.client.futures_create_order(\n",
    "                symbol=symbol,\n",
    "                side=side,\n",
    "                type='LIMIT',\n",
    "                quantity=quantity,\n",
    "                price=price,\n",
    "                timeInForce='GTC'\n",
    "            )\n",
    "            print(\"Limit Order Placed:\", order)\n",
    "        except Exception as e:\n",
    "            print(\"Limit Order Failed:\", str(e))\n"
   ]
  },
  {
   "cell_type": "code",
   "execution_count": 7,
   "id": "3260bbe2-9767-417b-be07-dd24f984440f",
   "metadata": {},
   "outputs": [
    {
     "name": "stdout",
     "output_type": "stream",
     "text": [
      "Enter API Key:  TEST_API_KEY_123456\n",
      "Enter API Secret:  TEST_API_SECRET_ABCDEF\n",
      "Enter trading symbol (e.g., BTCUSDT):  BTCUSDT\n",
      "Enter order side (BUY or SELL):  BUY\n",
      "Order type (market/limit):  11000\n",
      "Enter quantity:  0.002\n"
     ]
    },
    {
     "name": "stdout",
     "output_type": "stream",
     "text": [
      "Invalid order type\n"
     ]
    }
   ],
   "source": [
    "if __name__ == \"__main__\":\n",
    "    api_key = input(\"Enter API Key: \")\n",
    "    api_secret = input(\"Enter API Secret: \")\n",
    "\n",
    "    bot = BasicBot(api_key, api_secret)\n",
    "\n",
    "    symbol = input(\"Enter trading symbol (e.g., BTCUSDT): \")\n",
    "    side = input(\"Enter order side (BUY or SELL): \").upper()\n",
    "    order_type = input(\"Order type (market/limit): \").lower()\n",
    "\n",
    "    quantity = float(input(\"Enter quantity: \"))\n",
    "\n",
    "    if order_type == 'market':\n",
    "        bot.place_market_order(symbol, side, quantity)\n",
    "    elif order_type == 'limit':\n",
    "        price = float(input(\"Enter limit price: \"))\n",
    "        bot.place_limit_order(symbol, side, quantity, price)\n",
    "    else:\n",
    "        print(\"Invalid order type\")\n"
   ]
  },
  {
   "cell_type": "code",
   "execution_count": null,
   "id": "483dfa74-567b-4bea-8c97-3a23e7f240d2",
   "metadata": {},
   "outputs": [],
   "source": []
  }
 ],
 "metadata": {
  "kernelspec": {
   "display_name": "Python 3 (ipykernel)",
   "language": "python",
   "name": "python3"
  },
  "language_info": {
   "codemirror_mode": {
    "name": "ipython",
    "version": 3
   },
   "file_extension": ".py",
   "mimetype": "text/x-python",
   "name": "python",
   "nbconvert_exporter": "python",
   "pygments_lexer": "ipython3",
   "version": "3.12.7"
  }
 },
 "nbformat": 4,
 "nbformat_minor": 5
}
