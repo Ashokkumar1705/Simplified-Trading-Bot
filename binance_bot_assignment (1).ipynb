{
 "cells": [
  {
   "cell_type": "markdown",
   "id": "7add5497",
   "metadata": {},
   "source": [
    "# Binance Trading Bot - Futures (Market & Limit Orders)\n",
    "\n",
    "\n",
    "\n",
    "\n"
   ]
  },
  {
   "cell_type": "markdown",
   "id": "742cc761",
   "metadata": {},
   "source": [
    "## Step 1: Connect to Binance API\n"
   ]
  },
  {
   "cell_type": "code",
   "execution_count": null,
   "id": "fd019cd7",
   "metadata": {},
   "outputs": [],
   "source": [
    "from binance.client import Client\n",
    "\n",
    "class BasicBot:\n",
    "    def __init__(self, api_key, api_secret, testnet=True):\n",
    "        self.client = Client(api_key, api_secret)\n",
    "        if testnet:\n",
    "            self.client.FUTURES_URL = 'https://testnet.binancefuture.com/fapi'"
   ]
  },
  {
   "cell_type": "markdown",
   "id": "7b5fa1f6",
   "metadata": {},
   "source": [
    "## Step 2: Market Order Function\n",
    "Places a **market order** to buy/sell immediately at best available price."
   ]
  },
  {
   "cell_type": "code",
   "execution_count": null,
   "id": "0a06d01d",
   "metadata": {},
   "outputs": [],
   "source": [
    "def place_market_order(self, symbol, side, quantity):\n",
    "        try:\n",
    "            order = self.client.futures_create_order(\n",
    "                symbol=symbol,\n",
    "                side=side,\n",
    "                type='MARKET',\n",
    "                quantity=quantity\n",
    "            )\n",
    "            print(\"Market Order Placed:\", order)\n",
    "        except Exception as e:\n",
    "            print(\"Market Order Failed:\", str(e))"
   ]
  },
  {
   "cell_type": "markdown",
   "id": "f2fa0784",
   "metadata": {},
   "source": [
    "## Step 3: Limit Order Function\n",
    "Places a **limit order** at a specific price. Will execute only if market reaches that price."
   ]
  },
  {
   "cell_type": "code",
   "execution_count": null,
   "id": "6851283c",
   "metadata": {},
   "outputs": [],
   "source": [
    "def place_limit_order(self, symbol, side, quantity, price):\n",
    "        try:\n",
    "            order = self.client.futures_create_order(\n",
    "                symbol=symbol,\n",
    "                side=side,\n",
    "                type='LIMIT',\n",
    "                quantity=quantity,\n",
    "                price=price,\n",
    "                timeInForce='GTC'\n",
    "            )\n",
    "            print(\"Limit Order Placed:\", order)\n",
    "        except Exception as e:\n",
    "            print(\"Limit Order Failed:\", str(e))"
   ]
  },
  {
   "cell_type": "markdown",
   "id": "52f0a67f",
   "metadata": {},
   "source": [
    "## Step 4: Use the Bot - Input Details"
   ]
  },
  {
   "cell_type": "code",
   "execution_count": null,
   "id": "93e94409",
   "metadata": {},
   "outputs": [],
   "source": [
    "if __name__ == \"__main__\":\n",
    "    api_key = input(\"Enter API Key: \")\n",
    "    api_secret = input(\"Enter API Secret: \")\n",
    "\n",
    "    bot = BasicBot(api_key, api_secret)\n",
    "\n",
    "    symbol = input(\"Enter trading symbol (e.g., BTCUSDT): \")\n",
    "    side = input(\"Enter order side (BUY or SELL): \").upper()\n",
    "    order_type = input(\"Order type (market/limit): \").lower()\n",
    "\n",
    "    quantity = float(input(\"Enter quantity: \"))\n",
    "\n",
    "    if order_type == 'market':\n",
    "        bot.place_market_order(symbol, side, quantity)\n",
    "    elif order_type == 'limit':\n",
    "        price = float(input(\"Enter limit price: \"))\n",
    "        bot.place_limit_order(symbol, side, quantity, price)\n",
    "    else:\n",
    "        print(\"Invalid order type\")"
   ]
  },
  {
   "cell_type": "markdown",
   "id": "82aae671",
   "metadata": {},
   "source": [
    "## ✅ Assignment Complete\n",
    "This notebook demonstrates a simple Binance Futures Trading Bot with market and limit order capabilities. You can now upload this to GitHub."
   ]
  }
 ],
 "metadata": {
  "language_info": {
   "name": "python"
  }
 },
 "nbformat": 4,
 "nbformat_minor": 5
}
